{
 "cells": [
  {
   "cell_type": "code",
   "execution_count": 16,
   "metadata": {},
   "outputs": [
    {
     "name": "stdout",
     "output_type": "stream",
     "text": [
      "첫 번째 영화: 💊🕶️💻\n",
      "두 번째 영화: 🚢💔🌊\n",
      "첫 번째로 물어본 영화: Matrix 💊🕶️💻\n"
     ]
    }
   ],
   "source": [
    "# 첫 번째 셀 - 설정\n",
    "from langchain_core.messages import HumanMessage, SystemMessage\n",
    "from langchain_core.prompts import (\n",
    "    ChatPromptTemplate,\n",
    "    MessagesPlaceholder,\n",
    "    FewShotChatMessagePromptTemplate,\n",
    ")\n",
    "from langchain.memory import ChatMessageHistory\n",
    "from langchain_openai import ChatOpenAI\n",
    "\n",
    "# 채팅 기록을 저장할 메모리 생성\n",
    "history = ChatMessageHistory()\n",
    "\n",
    "# 챗봇 설정\n",
    "chat = ChatOpenAI(model=\"gpt-4o-mini\", temperature=0.1)\n",
    "\n",
    "# Few-shot 예제 설정\n",
    "examples = [\n",
    "    {\"human\": \"The title of the movie is 'Top Gun'\", \"ai\": \"🛩️👨‍✈️🔥\"},\n",
    "    {\"human\": \"The title of the movie is 'The Godfather'\", \"ai\": \"👨‍👨‍👦🔫🍝\"},\n",
    "    {\"human\": \"The title of the movie is 'Jaws'\", \"ai\": \"🦈🏊‍♂️😱\"},\n",
    "]\n",
    "\n",
    "example_prompt = ChatPromptTemplate.from_messages(\n",
    "    [\n",
    "        (\"human\", \"{human}\"),\n",
    "        (\"ai\", \"{ai}\"),\n",
    "    ]\n",
    ")\n",
    "\n",
    "few_shot_prompt = FewShotChatMessagePromptTemplate(\n",
    "    example_prompt=example_prompt,\n",
    "    examples=examples,\n",
    ")\n",
    "\n",
    "prompt = ChatPromptTemplate.from_messages(\n",
    "    [\n",
    "        SystemMessage(content=\"영화 제목을 받으면 딱 3개의 이모지로만 응답하세요.\"),\n",
    "        few_shot_prompt,\n",
    "        MessagesPlaceholder(variable_name=\"messages\"),\n",
    "    ]\n",
    ")\n",
    "\n",
    "chain = prompt | chat\n",
    "\n",
    "# 두 번째 셀 - 영화 질문하기\n",
    "# 첫 번째 영화\n",
    "first_message = HumanMessage(content=\"The title of the movie is Matrix\")\n",
    "first_response = chain.invoke({\"messages\": [first_message]})\n",
    "history.add_message(first_message)\n",
    "history.add_message(first_response)\n",
    "print(\"첫 번째 영화:\", first_response.content)\n",
    "\n",
    "# 두 번째 영화\n",
    "second_message = HumanMessage(content=\"The title of the movie is Titanic\")\n",
    "second_response = chain.invoke({\"messages\": [second_message]})\n",
    "history.add_message(second_message)\n",
    "history.add_message(second_response)\n",
    "print(\"두 번째 영화:\", second_response.content)\n",
    "\n",
    "# 세 번째 셀 - 메모리에서 첫 번째 영화와 이모지 확인하기\n",
    "messages = history.messages\n",
    "first_movie = messages[0].content.split(\"is \")[-1].strip()  # \"Matrix\" 부분만 추출\n",
    "first_emoji = messages[1].content\n",
    "print(f\"첫 번째로 물어본 영화: {first_movie} {first_emoji}\")"
   ]
  }
 ],
 "metadata": {
  "kernelspec": {
   "display_name": "env",
   "language": "python",
   "name": "python3"
  },
  "language_info": {
   "codemirror_mode": {
    "name": "ipython",
    "version": 3
   },
   "file_extension": ".py",
   "mimetype": "text/x-python",
   "name": "python",
   "nbconvert_exporter": "python",
   "pygments_lexer": "ipython3",
   "version": "3.13.0"
  }
 },
 "nbformat": 4,
 "nbformat_minor": 2
}
