{
 "cells": [
  {
   "cell_type": "code",
   "execution_count": 4,
   "metadata": {},
   "outputs": [
    {
     "name": "stdout",
     "output_type": "stream",
     "text": [
      "Python snakes through code,\n",
      "Elegant, simple, and clean,\n",
      "Guiding us with ease.\n",
      "\n",
      "Explanation: The programming language Python is described as \"snakes through code\" because of its syntax which emphasizes readability and simplicity. It is considered elegant, simple, and clean to work with, making it easy for programmers to write and understand code. Just like a snake smoothly glides through its surroundings, Python guides programmers through their tasks with ease."
     ]
    }
   ],
   "source": [
    "from langchain_core.output_parsers import StrOutputParser\n",
    "from langchain_core.prompts import ChatPromptTemplate\n",
    "from langchain_openai import ChatOpenAI\n",
    "\n",
    "# Define the chat model\n",
    "chat = ChatOpenAI(\n",
    "    model=\"gpt-3.5-turbo\",\n",
    "    temperature=0.7,\n",
    "    streaming=True,\n",
    ")\n",
    "\n",
    "# Define the prompt for Haiku and explanation\n",
    "prompt = ChatPromptTemplate.from_messages(\n",
    "    [\n",
    "        (\n",
    "            \"user\",\n",
    "            \"Write me a short Haiku about the programming language {language}. \"\n",
    "            \"Then explain this Haiku in simple terms.\",\n",
    "        ),\n",
    "    ]\n",
    ")\n",
    "\n",
    "# Combine the prompt and chat model into a chain\n",
    "chain = prompt | chat | StrOutputParser()\n",
    "\n",
    "# Execute the chain\n",
    "for message in chain.stream({\"language\": \"Python\"}):\n",
    "    print(message, end=\"\")"
   ]
  },
  {
   "cell_type": "code",
   "execution_count": 9,
   "metadata": {},
   "outputs": [
    {
     "name": "stdout",
     "output_type": "stream",
     "text": [
      "Generated Haiku:\n",
      "Serpent in code lines\n",
      "Python slithers with power\n",
      "Byte by byte it strikes\n",
      "\n",
      "Explanation:\n",
      "This Haiku is comparing Python, a programming language, to a serpent. The \"serpent in code lines\" suggests that Python is a powerful and flexible tool for writing code. The line \"Python slithers with power\" reinforces this idea, implying that Python can smoothly navigate and execute tasks. The final line, \"Byte by byte it strikes,\" suggests that Python can process information and perform actions efficiently. Overall, the Haiku conveys the idea that Python is a versatile and powerful language for programming."
     ]
    }
   ],
   "source": [
    "from langchain_core.prompts import ChatPromptTemplate\n",
    "from langchain_openai import ChatOpenAI\n",
    "from langchain_core.output_parsers import StrOutputParser\n",
    "\n",
    "# Define the chat model\n",
    "chat = ChatOpenAI(\n",
    "    model=\"gpt-3.5-turbo\",\n",
    "    temperature=0.7,\n",
    "    streaming=True,  # Streaming enabled\n",
    ")\n",
    "\n",
    "# Chain 1: Generate a Haiku about a programming language\n",
    "haiku_prompt = ChatPromptTemplate.from_messages(\n",
    "    [\n",
    "        (\n",
    "            \"user\",\n",
    "            \"Write me a short Haiku about the programming language {language}. Be creative!\",\n",
    "        )\n",
    "    ]\n",
    ")\n",
    "haiku_chain = haiku_prompt | chat | StrOutputParser()\n",
    "\n",
    "# Chain 2: Explain the Haiku\n",
    "explanation_prompt = ChatPromptTemplate.from_messages(\n",
    "    [\n",
    "        (\n",
    "            \"user\",\n",
    "            \"Explain this Haiku about {language}: {haiku}. Break it down in simple terms.\",\n",
    "        )\n",
    "    ]\n",
    ")\n",
    "explanation_chain = explanation_prompt | chat | StrOutputParser()\n",
    "\n",
    "\n",
    "# Final Chain with Streaming\n",
    "def final_chain_stream(language: str):\n",
    "    # Step 1: Generate the Haiku\n",
    "    print(\"Generated Haiku:\")\n",
    "    haiku = \"\"\n",
    "    for message in haiku_chain.stream({\"language\": language}):\n",
    "        print(message, end=\"\")  # Stream the Haiku line-by-line\n",
    "        haiku += message\n",
    "\n",
    "    print(\"\\n\\nExplanation:\")\n",
    "    # Step 2: Explain the Haiku\n",
    "    for message in explanation_chain.stream({\"language\": language, \"haiku\": haiku}):\n",
    "        print(message, end=\"\")  # Stream the explanation line-by-line\n",
    "\n",
    "\n",
    "# Execute the final chain with streaming\n",
    "final_chain_stream(\"Python\")"
   ]
  }
 ],
 "metadata": {
  "kernelspec": {
   "display_name": "env",
   "language": "python",
   "name": "python3"
  },
  "language_info": {
   "codemirror_mode": {
    "name": "ipython",
    "version": 3
   },
   "file_extension": ".py",
   "mimetype": "text/x-python",
   "name": "python",
   "nbconvert_exporter": "python",
   "pygments_lexer": "ipython3",
   "version": "3.13.0"
  }
 },
 "nbformat": 4,
 "nbformat_minor": 2
}
