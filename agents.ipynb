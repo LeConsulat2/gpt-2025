{
 "cells": [
  {
   "cell_type": "code",
   "execution_count": 10,
   "metadata": {},
   "outputs": [
    {
     "name": "stdout",
     "output_type": "stream",
     "text": [
      "Research completed and saved to 'XZ_backdoor_research.txt'.\n"
     ]
    }
   ],
   "source": [
    "from langchain_core.tools import Tool\n",
    "from langchain.agents import initialize_agent\n",
    "from langchain.llms import OpenAI\n",
    "from langchain_community.utilities.wikipedia import WikipediaAPIWrapper\n",
    "import requests\n",
    "from bs4 import BeautifulSoup\n",
    "\n",
    "\n",
    "# Define a custom web scraper tool\n",
    "def scrape_website(url):\n",
    "    response = requests.get(url)\n",
    "    soup = BeautifulSoup(response.text, \"html.parser\")\n",
    "    return soup.get_text()\n",
    "\n",
    "\n",
    "web_scraper_tool = Tool(\n",
    "    name=\"Web Scraper\",\n",
    "    func=scrape_website,\n",
    "    description=\"Extract the main content of a website using its URL.\",\n",
    ")\n",
    "\n",
    "# Define tools\n",
    "wikipedia_tool = Tool(\n",
    "    name=\"Wikipedia Search\",\n",
    "    func=WikipediaAPIWrapper().run,\n",
    "    description=\"Search in Wikipedia to extract information about the topic.\",\n",
    ")\n",
    "\n",
    "\n",
    "def duckduckgo_search_and_scrape(query):\n",
    "    response = requests.get(\n",
    "        f\"https://html.duckduckgo.com/html/?q={query}\",\n",
    "        headers={\"User-Agent\": \"Mozilla/5.0\"},\n",
    "    )\n",
    "    response.raise_for_status()\n",
    "    soup = BeautifulSoup(response.text, \"html.parser\")\n",
    "    results = [\n",
    "        a[\"href\"] for a in soup.find_all(\"a\", href=True) if a[\"href\"].startswith(\"http\")\n",
    "    ]\n",
    "\n",
    "    if results:\n",
    "        first_result_url = results[0]\n",
    "        website_content = scrape_website(first_result_url)\n",
    "        return f\"DuckDuckGo result from {first_result_url}:\\n{website_content}\"\n",
    "\n",
    "    return \"No results found on DuckDuckGo.\"\n",
    "\n",
    "\n",
    "duckduckgo_tool = Tool(\n",
    "    name=\"DuckDuckGo Search\",\n",
    "    func=duckduckgo_search_and_scrape,\n",
    "    description=\"Search DuckDuckGo, find a website, and extract its content.\",\n",
    ")\n",
    "\n",
    "# Initialize the agent\n",
    "llm = OpenAI()\n",
    "tools = [wikipedia_tool, duckduckgo_tool, web_scraper_tool]\n",
    "agent = initialize_agent(tools, llm, agent=\"zero-shot-react-description\", verbose=False)\n",
    "\n",
    "# Research query\n",
    "query = \"Research about the XZ backdoor\"\n",
    "result = agent.run(query)\n",
    "\n",
    "# Save the research to a file\n",
    "with open(\"XZ_backdoor_research.txt\", \"w\", encoding=\"utf-8\") as file:\n",
    "    file.write(result)\n",
    "\n",
    "print(\"Research completed and saved to 'XZ_backdoor_research.txt'.\")"
   ]
  },
  {
   "cell_type": "code",
   "execution_count": null,
   "metadata": {},
   "outputs": [],
   "source": []
  }
 ],
 "metadata": {
  "kernelspec": {
   "display_name": "env",
   "language": "python",
   "name": "python3"
  },
  "language_info": {
   "codemirror_mode": {
    "name": "ipython",
    "version": 3
   },
   "file_extension": ".py",
   "mimetype": "text/x-python",
   "name": "python",
   "nbconvert_exporter": "python",
   "pygments_lexer": "ipython3",
   "version": "3.13.0"
  }
 },
 "nbformat": 4,
 "nbformat_minor": 2
}
