{
 "cells": [
  {
   "cell_type": "code",
   "execution_count": 10,
   "metadata": {},
   "outputs": [
    {
     "name": "stdout",
     "output_type": "stream",
     "text": [
      "Research completed and saved to 'XZ_backdoor_research.txt'.\n"
     ]
    }
   ],
   "source": [
    "from langchain_core.tools import Tool\n",
    "from langchain.agents import initialize_agent\n",
    "from langchain.llms import OpenAI\n",
    "from langchain_community.utilities.wikipedia import WikipediaAPIWrapper\n",
    "from langchain_community.utilities import DuckDuckGoSearchAPIWrapper\n",
    "\n",
    "# Define tools\n",
    "wikipedia_tool = Tool(\n",
    "    name=\"Wikipedia Search\",\n",
    "    func=WikipediaAPIWrapper().run,\n",
    "    description=\"Search in Wikipedia to extract information about the topic.\",\n",
    ")\n",
    "\n",
    "duckduckgo_api_wrapper = DuckDuckGoSearchAPIWrapper(\n",
    "    region=\"us-en\", time=\"w\", max_results=1\n",
    ")\n",
    "\n",
    "\n",
    "def duckduckgo_search(query):\n",
    "    results = duckduckgo_api_wrapper.run(query)\n",
    "    if results:\n",
    "        return results[0][\"link\"]  # Returns the first result URL\n",
    "    return \"No results found on DuckDuckGo.\"\n",
    "\n",
    "\n",
    "duckduckgo_tool = Tool(\n",
    "    name=\"DuckDuckGo Search\",\n",
    "    func=duckduckgo_search,\n",
    "    description=\"Search DuckDuckGo and get the first result URL.\",\n",
    ")\n",
    "\n",
    "# Initialize the agent\n",
    "llm = OpenAI()\n",
    "tools = [wikipedia_tool, duckduckgo_tool]\n",
    "agent = initialize_agent(tools, llm, agent=\"zero-shot-react-description\", verbose=False)\n",
    "\n",
    "# Research query\n",
    "query = \"Research about the XZ backdoor\"\n",
    "result = agent.run(query)\n",
    "\n",
    "# Save the research to a file\n",
    "with open(\"XZ_backdoor_research.txt\", \"w\", encoding=\"utf-8\") as file:\n",
    "    file.write(result)\n",
    "\n",
    "print(\"Research completed and saved to 'XZ_backdoor_research.txt'.\")"
   ]
  },
  {
   "cell_type": "code",
   "execution_count": null,
   "metadata": {},
   "outputs": [],
   "source": []
  }
 ],
 "metadata": {
  "kernelspec": {
   "display_name": "env",
   "language": "python",
   "name": "python3"
  },
  "language_info": {
   "codemirror_mode": {
    "name": "ipython",
    "version": 3
   },
   "file_extension": ".py",
   "mimetype": "text/x-python",
   "name": "python",
   "nbconvert_exporter": "python",
   "pygments_lexer": "ipython3",
   "version": "3.13.0"
  }
 },
 "nbformat": 4,
 "nbformat_minor": 2
}
