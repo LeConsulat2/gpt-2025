{
 "cells": [
  {
   "cell_type": "code",
   "execution_count": 7,
   "metadata": {},
   "outputs": [
    {
     "name": "stdout",
     "output_type": "stream",
     "text": [
      "Director: Lenny Abrahamson, Hettie Macdonald  \n",
      "Main Cast: Daisy Edgar-Jones, Paul Mescal  \n",
      "Budget: Approximately $1 million per episode  \n",
      "Format: Limited Series (12 episodes)  \n",
      "Genre: Drama, Romance  \n",
      "Synopsis: Based on Sally Rooney's novel, \"Normal People\" follows the complex relationship between two Irish teenagers, Connell and Marianne, as they navigate love, friendship, and the challenges of growing up from high school to university."
     ]
    }
   ],
   "source": [
    "from langchain_openai import ChatOpenAI\n",
    "from langchain_core.prompts import ChatPromptTemplate, FewShotChatMessagePromptTemplate\n",
    "\n",
    "chat = ChatOpenAI(\n",
    "    model=\"gpt-4o-mini\",\n",
    "    temperature=0.1,\n",
    "    streaming=True,\n",
    ")\n",
    "\n",
    "movies = [\n",
    "    {\n",
    "        \"input\": \"The Dark Knight\",\n",
    "        \"output\": \"\"\"Director: Christopher Nolan\n",
    "Main Cast: Christian Bale, Heath Ledger, Aaron Eckhart\n",
    "Budget: $185 million\n",
    "Box Office: $1.005 billion\n",
    "Genre: Action, Crime, Drama\n",
    "Synopsis: When the Joker wreaks havoc on Gotham City, Batman must confront one of his greatest psychological and physical tests to fight injustice.\"\"\",\n",
    "    },\n",
    "    {\n",
    "        \"input\": \"The Social Network\",\n",
    "        \"output\": \"\"\"Director: David Fincher\n",
    "Main Cast: Jesse Eisenberg, Andrew Garfield, Justin Timberlake\n",
    "Budget: $40 million\n",
    "Box Office: $224.9 million\n",
    "Genre: Biography, Drama\n",
    "Synopsis: The story of Mark Zuckerberg and the founding of Facebook, as he faces personal and legal complications while revolutionizing social networking.\"\"\",\n",
    "    },\n",
    "]\n",
    "movies_prompt = ChatPromptTemplate.from_messages(\n",
    "    [\n",
    "        (\"human\", \"{input}\"),\n",
    "        (\"ai\", \"{output}\"),\n",
    "    ]\n",
    ")\n",
    "\n",
    "movies_shot_prompt = FewShotChatMessagePromptTemplate(\n",
    "    example_prompt=movies_prompt,\n",
    "    examples=movies,\n",
    ")\n",
    "\n",
    "final_prompt = ChatPromptTemplate.from_messages(\n",
    "    [\n",
    "        (\n",
    "            \"system\",\n",
    "            \"You are a movie and TV series information assistant. For movies, include Director, Main Cast, Budget, Box Office, Genre, and Synopsis. For TV series, include Director, Main Cast, Budget (per episode if available), Format, Genre, and Synopsis. Always maintain this structured format.\",\n",
    "        ),\n",
    "        movies_shot_prompt,\n",
    "        (\"human\", \"{input}\"),\n",
    "    ]\n",
    ")\n",
    "\n",
    "final_chain = final_prompt | chat\n",
    "\n",
    "for chunk in final_chain.stream({\"input\": \"Normal People\"}):\n",
    "    print(chunk.content, end=\"\", flush=True)"
   ]
  }
 ],
 "metadata": {
  "kernelspec": {
   "display_name": "env",
   "language": "python",
   "name": "python3"
  },
  "language_info": {
   "codemirror_mode": {
    "name": "ipython",
    "version": 3
   },
   "file_extension": ".py",
   "mimetype": "text/x-python",
   "name": "python",
   "nbconvert_exporter": "python",
   "pygments_lexer": "ipython3",
   "version": "3.13.0"
  }
 },
 "nbformat": 4,
 "nbformat_minor": 2
}
